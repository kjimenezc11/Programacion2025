{
 "cells": [
  {
   "cell_type": "markdown",
   "metadata": {},
   "source": [
    "# NOTEBOOK 02 - Tipos de datos y Variables\n",
    "## Fundamentos de Programación: Tipos de Datos, Variables y Operaciones Básicas\n",
    "### Prof: Ing. Andrés Mena Abarca\n",
    "\n",
    "> ## Nombre del estudiante: KENETH JIMENEZ C\n"
   ]
  },
  {
   "cell_type": "markdown",
   "metadata": {},
   "source": [
    "\n",
    "\n",
    "---\n",
    "\n",
    "## 1. Tipos de Datos en Python\n",
    "## **1. Introducción a los Tipos de Datos Básicos**\n",
    "\n",
    "### **Explicación:**\n",
    "En Python, los tipos de datos básicos son los bloques fundamentales para almacenar y manipular información. Estos tipos son:\n",
    "\n",
    "1. **`int` (Enteros):**\n",
    "   - Representan números enteros, positivos o negativos.\n",
    "   - Ejemplos: `5`, `-10`, `1000`.\n",
    "   - No tienen límite de tamaño (dependen de la memoria disponible).\n",
    "\n",
    "2. **`float` (Decimales):**\n",
    "   - Representan números con parte decimal.\n",
    "   - Ejemplos: `3.14`, `-0.001`, `2.0`.\n",
    "   - Se almacenan con una precisión limitada (aproximadamente 15 decimales).\n",
    "\n",
    "3. **`str` (Cadenas de Texto):**\n",
    "   - Representan secuencias de caracteres.\n",
    "   - Se definen entre comillas simples (`'Hola'`) o dobles (`\"Python\"`).\n",
    "   - Son inmutables (no se pueden modificar después de crearse).\n",
    "\n",
    "4. **`bool` (Booleanos):**\n",
    "   - Representan valores lógicos: `True` (verdadero) o `False` (falso).\n",
    "   - Se usan en condiciones y operaciones lógicas.\n",
    "\n",
    "### **Práctica:**\n",
    "\n",
    "```python\n",
    "# Declara variables de cada tipo\n",
    "edad = 25  # int\n",
    "altura = 1.75  # float\n",
    "nombre = \"Ana\"  # str\n",
    "es_estudiante = True  # bool\n",
    "\n",
    "# Muestra el tipo de cada variable usando la función type()\n",
    "print(type(edad))  # <class 'int'>\n",
    "print(type(altura))  # <class 'float'>\n",
    "print(type(nombre))  # <class 'str'>\n",
    "print(type(es_estudiante))  # <class 'bool'>\n",
    "\n",
    "## Ejercicios \n",
    "\n",
    "1. Declara una variable de tipo entero y asigna el valor *25*. Luego, imprime su tipo."
   ]
  },
  {
   "cell_type": "code",
   "execution_count": 5,
   "metadata": {},
   "outputs": [
    {
     "name": "stdout",
     "output_type": "stream",
     "text": [
      "Mi nombre es keneth, mido 1.65, tengo 16 años, soy estudiante True\n",
      "<class 'int'>\n",
      "<class 'float'>\n",
      "<class 'str'>\n",
      "<class 'bool'>\n"
     ]
    }
   ],
   "source": [
    "#Respuesta\n",
    "edad = 16\n",
    "altura = 1.65\n",
    "nombre = 'keneth'\n",
    "es_estudiante = True\n",
    "\n",
    "print (f'Mi nombre es {nombre}, mido {altura}, tengo {edad} años, soy estudiante {es_estudiante}')\n",
    "print(type(edad))\n",
    "print(type(altura))\n",
    "print(type(nombre))\n",
    "print(type(es_estudiante))"
   ]
  },
  {
   "cell_type": "markdown",
   "metadata": {},
   "source": [
    "2. Declara una variable de tipo flotante con el valor *3.1416*. Imprime su tipo.\n"
   ]
  },
  {
   "cell_type": "code",
   "execution_count": 29,
   "metadata": {},
   "outputs": [
    {
     "name": "stdout",
     "output_type": "stream",
     "text": [
      "valor pi 3.14\n",
      "<class 'float'>\n"
     ]
    }
   ],
   "source": [
    "#Respuesta\n",
    "pi = float(input('Ingrese valor de pi:'))\n",
    "\n",
    "print ('valor pi',pi)\n",
    "print(type(pi))\n"
   ]
  },
  {
   "cell_type": "markdown",
   "metadata": {},
   "source": [
    "3. Crea una variable es_estudiante que almacene un valor booleano indicando si eres estudiante."
   ]
  },
  {
   "cell_type": "code",
   "execution_count": 38,
   "metadata": {},
   "outputs": [
    {
     "ename": "TypeError",
     "evalue": "'bool' object is not callable",
     "output_type": "error",
     "traceback": [
      "\u001b[31m---------------------------------------------------------------------------\u001b[39m",
      "\u001b[31mTypeError\u001b[39m                                 Traceback (most recent call last)",
      "\u001b[36mCell\u001b[39m\u001b[36m \u001b[39m\u001b[32mIn[38]\u001b[39m\u001b[32m, line 4\u001b[39m\n\u001b[32m      1\u001b[39m \u001b[38;5;66;03m#Respuesta\u001b[39;00m\n\u001b[32m      2\u001b[39m true_false = \u001b[38;5;28mbool\u001b[39m(\u001b[38;5;28minput\u001b[39m(\u001b[33m'\u001b[39m\u001b[33mes estudiante\u001b[39m\u001b[33m'\u001b[39m))\n\u001b[32m----> \u001b[39m\u001b[32m4\u001b[39m \u001b[38;5;28;43mprint\u001b[39;49m\u001b[43m(\u001b[49m\u001b[43mtrue_false\u001b[49m\u001b[43m)\u001b[49m\n\u001b[32m      6\u001b[39m \u001b[38;5;28mprint\u001b[39m(\u001b[38;5;28mtype\u001b[39m(true_false))\n",
      "\u001b[31mTypeError\u001b[39m: 'bool' object is not callable"
     ]
    }
   ],
   "source": [
    "#Respuesta\n",
    "true_false = bool(input('es estudiante'))\n",
    "\n",
    "print(true_false)\n",
    "\n",
    "print(type(true_false))"
   ]
  },
  {
   "cell_type": "markdown",
   "metadata": {},
   "source": [
    "## 2. Variables en Python\n",
    "\n",
    "### Teoría\n",
    "Las variables son espacios de memoria donde almacenamos datos. En Python, no es necesario declarar el tipo de la variable, simplemente se asigna un valor con el símbolo `=`.\n",
    "\n",
    "#### Reglas para nombrar variables:\n",
    "- Deben comenzar con una letra o un guion bajo.\n",
    "- No pueden comenzar con un número.\n",
    "- Solo pueden contener letras, números y guiones bajos.\n",
    "- Son sensibles a mayúsculas y minúsculas (`nombre` y `Nombre` son diferentes).\n",
    "\n",
    "### Ejemplo"
   ]
  },
  {
   "cell_type": "code",
   "execution_count": null,
   "metadata": {},
   "outputs": [],
   "source": [
    "# Declaración de variables\n",
    "mi_nombre = \"Carlos\"\n",
    "edad = 20\n",
    "\n",
    "# Variables válidas\n",
    "nombre_completo = \"Ana Pérez\"\n",
    "_variable_secreta = 42 # convención para indicar que esa variable es protegida.\n",
    "\n",
    "# Variables inválidas (descomentar para ver los errores)\n",
    "# 2variable = 10  # Error: no puede comenzar con un número\n"
   ]
  },
  {
   "cell_type": "markdown",
   "metadata": {},
   "source": [
    "## 3. Operaciones Básicas de Entrada y Salida\n",
    "\n",
    "### Teoría\n",
    "Las operaciones de entrada y salida son fundamentales para interactuar con el usuario. En Python, utilizamos la función `input()` para capturar datos del usuario y `print()` para mostrar información en pantalla.\n",
    "\n",
    "### Ejemplos"
   ]
  },
  {
   "cell_type": "code",
   "execution_count": 1,
   "metadata": {},
   "outputs": [
    {
     "name": "stdout",
     "output_type": "stream",
     "text": [
      "hola mundo\n",
      "su nombre es ll\n"
     ]
    }
   ],
   "source": [
    "# Operación de salida\n",
    "print(\"hola mundo\")\n",
    "\n",
    "# Operación de entrada + Saalida con format\n",
    "nombre = input('ingrese su nombre por favor')\n",
    "print(f\"su nombre es {nombre}\")"
   ]
  },
  {
   "cell_type": "markdown",
   "metadata": {},
   "source": [
    "En otros lenguajes, como *Java*, el proceso es similar pero con algunas diferencias en la sintaxis:\n",
    "\n",
    "```Java\n",
    "// Ejemplo en Java\n",
    "import java.util.Scanner;\n",
    "\n",
    "public class EntradaSalida {\n",
    "    public static void main(String[] args) {\n",
    "        Scanner input = new Scanner(System.in);\n",
    "        System.out.print(\"¿Cómo te llamas? \");\n",
    "        String nombre = input.nextLine();\n",
    "        System.out.println(\"Hola, \" + nombre + \"!\");\n",
    "    }\n",
    "}\n",
    "\n",
    "```"
   ]
  },
  {
   "cell_type": "markdown",
   "metadata": {},
   "source": [
    "## 4. Operadores Básicos en Python\n",
    "\n",
    "### Teoría\n",
    "Los operadores en Python nos permiten realizar diversas operaciones con variables y datos. Los más comunes son:\n",
    "\n",
    "- **Operadores matemáticos**: `+`, `-`, `*`, `/`, `//` (división entera), `%` (módulo)\n",
    "- **Operadores de asignación**: `=`, `+=`, `-=`, `*=`, `/=`\n",
    "- **Operadores de comparación**: `==`, `!=`, `<`, `>`, `<=`, `>=`\n",
    "- **Operadores lógicos**: `and`, `or`, `not`\n",
    "\n",
    "### Tabla de Operadores Matemáticos\n",
    "\n",
    "| Operador | Descripción           | Ejemplo           |\n",
    "|----------|-----------------------|-------------------|\n",
    "| `+`      | Suma                  | `5 + 3 = 8`       |\n",
    "| `-`      | Resta                 | `5 - 2 = 3`       |\n",
    "| `*`      | Multiplicación         | `5 * 2 = 10`      |\n",
    "| `/`      | División              | `10 / 2 = 5.0`    |\n",
    "| `//`     | División entera        | `10 // 3 = 3`     |\n",
    "| `%`      | Módulo (resto)         | `10 % 3 = 1`      |\n",
    "\n",
    "### Ejemplos"
   ]
  },
  {
   "cell_type": "markdown",
   "metadata": {},
   "source": [
    "#### Problema 1: Operadores Matemáticos y Comparación en Python\n",
    "\n",
    "Tienes dos variables `a = 10` y `b = 5`. Realiza las siguientes operaciones matemáticas:"
   ]
  },
  {
   "cell_type": "code",
   "execution_count": 5,
   "metadata": {},
   "outputs": [
    {
     "name": "stdout",
     "output_type": "stream",
     "text": [
      "el resultado de la sumaes: 8\n",
      "el resultado de la resta es: 3\n",
      "el resultado de la multiplicacon es: 10\n",
      "el resultado de la division es: 5.0\n",
      "el resultado de la division entera es: 3\n",
      "el resultado de modulo resto es: 1\n"
     ]
    }
   ],
   "source": [
    "# Asignacón de variables\n",
    "A = 5\n",
    "B = 3\n",
    "C = 2\n",
    "D = 10\n",
    "print(\"el resultado de la sumaes:\", A + B)\n",
    "print(\"el resultado de la resta es:\", A - C)\n",
    "print(\"el resultado de la multiplicacon es:\", A * C)\n",
    "print(\"el resultado de la division es:\", D / C)\n",
    "print(\"el resultado de la division entera es:\", D // B)\n",
    "print(\"el resultado de modulo resto es:\", D % B)\n",
    "# Suma y resta\n"
   ]
  },
  {
   "cell_type": "code",
   "execution_count": null,
   "metadata": {},
   "outputs": [],
   "source": []
  },
  {
   "cell_type": "markdown",
   "metadata": {},
   "source": [
    "#### Práctica:\n",
    "> Función para calcular el área de un círculo:"
   ]
  },
  {
   "cell_type": "code",
   "execution_count": 9,
   "metadata": {},
   "outputs": [
    {
     "name": "stdout",
     "output_type": "stream",
     "text": [
      "El valor del area es de: 28.274333882308138\n"
     ]
    }
   ],
   "source": [
    "from math import pi\n",
    "\n",
    "radio = float(input(\"ingrese el valor radio: \"))\n",
    "area = pi * (radio ** 2)\n",
    "print(\"El valor del area es de:\", area )"
   ]
  },
  {
   "cell_type": "markdown",
   "metadata": {},
   "source": [
    "#### Problema 2: Comparación de Números\n",
    "Usa los siguientes operadores de comparación para verificar la relación entre a y b. ¿Qué resultado esperas?"
   ]
  },
  {
   "cell_type": "code",
   "execution_count": 11,
   "metadata": {},
   "outputs": [
    {
     "name": "stdout",
     "output_type": "stream",
     "text": [
      "False\n",
      "False\n",
      "True\n",
      "True\n"
     ]
    }
   ],
   "source": [
    "# Operadores de comparación\n",
    "a = 10\n",
    "b = 12\n",
    "# ¿Es a igual a b?\n",
    "print(a == b)\n",
    "# ¿Es a mayor que b?\n",
    "print(a > b)\n",
    "# ¿Es a menor que b?\n",
    "print(a < b)\n",
    "#diferente\n",
    "print(a != b)"
   ]
  },
  {
   "cell_type": "markdown",
   "metadata": {},
   "source": [
    "### Problema 3: Operadores Lógicos\n",
    "Usa operadores lógicos para combinar condiciones. Resuelve el siguiente problema: ¿Es a mayor que 0 y b menor que 10? \n",
    "\n",
    "- ¿Qué pasa si a = -10?"
   ]
  },
  {
   "cell_type": "code",
   "execution_count": 14,
   "metadata": {},
   "outputs": [
    {
     "name": "stdout",
     "output_type": "stream",
     "text": [
      "False\n"
     ]
    }
   ],
   "source": [
    "# Ejemplo: Operador lógico AND (usuario y contraseña)\n",
    "\n",
    "# Datos correctos (simulando una base de datos)\n",
    "usuario_correcto = \"admin\"\n",
    "contraseña_correcta = \"1234\"\n",
    "\n",
    "usuario = input(\"ingrese el usuario\")\n",
    "contrasena = input(\"ingrese la contraseña.\")\n",
    "\n",
    "\n",
    "print (usuario == usuario_correcto and contraseña_correcta)\n"
   ]
  },
  {
   "cell_type": "code",
   "execution_count": 15,
   "metadata": {},
   "outputs": [
    {
     "name": "stdout",
     "output_type": "stream",
     "text": [
      "True\n",
      "True\n",
      "True\n",
      "False\n"
     ]
    }
   ],
   "source": [
    "# Ejemplo: Operador lógico OR\n",
    "papa = True\n",
    "mama = True\n",
    "# Preguntar si mamá o papá dan permiso\n",
    "print(papa or mama)\n",
    "\n",
    "papa = False\n",
    "mama = True\n",
    "print(papa or mama)\n",
    "\n",
    "papa = True\n",
    "mama = False\n",
    "print(papa or mama)\n",
    "\n",
    "papa = False\n",
    "mama= False \n",
    "print(papa or mama)"
   ]
  },
  {
   "cell_type": "code",
   "execution_count": null,
   "metadata": {},
   "outputs": [],
   "source": [
    "# ¿Ambas condiciones son verdaderas?\n",
    "\n",
    "# ¿Al menos una de las condiciones es verdadera?\n",
    "\n",
    "# ¿Es falso que a sea mayor que b?\n"
   ]
  },
  {
   "cell_type": "markdown",
   "metadata": {},
   "source": [
    "### Problema 4: Divisiones y Módulo\n",
    "Prueba las operaciones de división entera y módulo para ver cómo Python maneja los restos de las divisiones."
   ]
  },
  {
   "cell_type": "code",
   "execution_count": 16,
   "metadata": {},
   "outputs": [
    {
     "name": "stdout",
     "output_type": "stream",
     "text": [
      "5.5\n",
      "5\n",
      "1\n"
     ]
    }
   ],
   "source": [
    "# División entera y módulo\n",
    "print(11 / 2) #division\n",
    "\n",
    "print(11 // 2) # division entera\n",
    "\n",
    "print(11 % 2) #division modular"
   ]
  },
  {
   "cell_type": "code",
   "execution_count": 1,
   "metadata": {},
   "outputs": [
    {
     "name": "stdout",
     "output_type": "stream",
     "text": [
      "Numero par:  False\n"
     ]
    }
   ],
   "source": [
    "# Función para verificar si un número es par\n",
    "numero = float(input(\"Profesor ingrese el numero: \"))\n",
    "\n",
    "print(\"Numero par: \", numero % 2 == 0)\n"
   ]
  },
  {
   "cell_type": "markdown",
   "metadata": {
    "vscode": {
     "languageId": "powershell"
    }
   },
   "source": [
    "### 5. Conversión entre Tipos de Datos\n",
    "Python permite convertir entre tipos de datos usando funciones como:\n",
    "\n",
    "- `int()`: Convierte a entero.\n",
    "- `float()`: Convierte a decimal.\n",
    "- `str():` Convierte a cadena.\n",
    "- `bool()`: Convierte a booleano."
   ]
  },
  {
   "cell_type": "code",
   "execution_count": 3,
   "metadata": {},
   "outputs": [
    {
     "name": "stdout",
     "output_type": "stream",
     "text": [
      "<class 'str'>\n",
      "<class 'int'>\n",
      "<class 'float'>\n"
     ]
    }
   ],
   "source": [
    "# Conversión de tipos\n",
    "variable = '10.5'\n",
    "print(type(variable))\n",
    "\n",
    "variable = 10\n",
    "print(type(variable))\n",
    "\n",
    "variable = 10.5\n",
    "print(type(variable))"
   ]
  },
  {
   "cell_type": "code",
   "execution_count": null,
   "metadata": {
    "vscode": {
     "languageId": "powershell"
    }
   },
   "outputs": [],
   "source": [
    "# Conversión de cadenas a números"
   ]
  },
  {
   "cell_type": "markdown",
   "metadata": {},
   "source": [
    "### Ejercicio Final:\n",
    "\n",
    "Combina operadores matemáticos, de comparación y lógicos. Escribe un programa que pida al usuario dos números y realice las siguientes tareas:\n",
    "\n",
    "1. Verifique si el primer número es mayor que el segundo.\n",
    "2. Calcule la suma, resta, división y módulo de ambos.\n",
    "3. Determine si la suma de ambos números es mayor que 20 **y** si alguno de los dos es menor que 5."
   ]
  },
  {
   "cell_type": "code",
   "execution_count": null,
   "metadata": {},
   "outputs": [
    {
     "name": "stdout",
     "output_type": "stream",
     "text": [
      "false\n",
      "la suma es de: 43\n",
      "la resta es de: -19\n",
      "la division es de: 0.3870967741935484\n",
      "la division entera es: 0\n",
      "la division modular es: 12\n",
      "Si es mayor a 20\n"
     ]
    }
   ],
   "source": [
    "#Respuesta\n",
    "a = int(input(\"ingrese num1: \"))\n",
    "b = int(input(\"ingrese num2:\"))\n",
    "if num1 > num2:\n",
    "    print(\"True\")\n",
    "else:\n",
    "    print(\"false\")    \n",
    "\n",
    "\n",
    "print(\"la suma es de:\", a + b)\n",
    "print(\"la resta es de:\", a - b)\n",
    "print(\"la division es de:\", a / b)\n",
    "print(\"la division entera es:\", a // b)\n",
    "print(\"la division modular es:\", a % b)\n",
    "\n",
    "\n",
    "if num1 + num2 >= 20:\n",
    "    print(\"Si es mayor a 20\")\n",
    "\n",
    "else:\n",
    "    num1 + num2 <= 5\n",
    "    print(\"es menor que 5\")\n",
    "\n"
   ]
  }
 ],
 "metadata": {
  "kernelspec": {
   "display_name": "Python 3",
   "language": "python",
   "name": "python3"
  },
  "language_info": {
   "codemirror_mode": {
    "name": "ipython",
    "version": 3
   },
   "file_extension": ".py",
   "mimetype": "text/x-python",
   "name": "python",
   "nbconvert_exporter": "python",
   "pygments_lexer": "ipython3",
   "version": "3.13.3"
  }
 },
 "nbformat": 4,
 "nbformat_minor": 2
}
